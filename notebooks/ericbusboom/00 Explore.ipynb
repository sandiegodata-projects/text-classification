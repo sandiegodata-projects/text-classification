{
 "cells": [
  {
   "cell_type": "code",
   "execution_count": 2,
   "id": "11be41f5-1dde-4401-9049-0c37482e4e58",
   "metadata": {},
   "outputs": [],
   "source": [
    "import pandas as pd\n",
    "import rowgenerators as rg\n",
    "import seaborn\n",
    "\n",
    "%matplotlib inline"
   ]
  },
  {
   "cell_type": "code",
   "execution_count": null,
   "id": "7ab275e8-d8bc-4e35-b258-485defbd7191",
   "metadata": {},
   "outputs": [],
   "source": [
    "f = "
   ]
  }
 ],
 "metadata": {
  "kernelspec": {
   "display_name": "Python 3",
   "language": "python",
   "name": "python3"
  },
  "language_info": {
   "codemirror_mode": {
    "name": "ipython",
    "version": 3
   },
   "file_extension": ".py",
   "mimetype": "text/x-python",
   "name": "python",
   "nbconvert_exporter": "python",
   "pygments_lexer": "ipython3",
   "version": "3.8.11"
  }
 },
 "nbformat": 4,
 "nbformat_minor": 5
}
