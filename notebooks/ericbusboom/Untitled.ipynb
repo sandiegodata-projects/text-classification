{
 "cells": [
  {
   "cell_type": "code",
   "execution_count": 1,
   "id": "88c5405c-1341-4153-8a45-68718aa1b229",
   "metadata": {},
   "outputs": [
    {
     "data": {
      "text/plain": [
       "[_annot(color=(249, 205, 89), color_name='SandyBrown', atype='Highlight', page=1, text='extended theoretical framework.'),\n",
       " _annot(color=(249, 205, 89), color_name='SandyBrown', atype='Highlight', page=1, text='Since the early 1990s, there has been a sharp increase'),\n",
       " _annot(color=(124, 200, 103), color_name='DarkSeaGreen', atype='Highlight', page=1, text='regional levels. They have the potential of promoting new knowledge intensive industries; augmenting existing industrial clusters/industrial states; diversifying the local industrial base; and'),\n",
       " _annot(color=(251, 91, 137), color_name='LightCoral', atype='Highlight', page=1, text='to 3500 across 130 countries in 2006 (Table 1). This surge in the number of zones has not only been due to increased number of countries setting up zones but also due to more zones per country. The'),\n",
       " _annot(color=(251, 91, 137), color_name='LightCoral', atype='Highlight', page=1, text='within the extended theoretical framework. It finds that while SEZs are stimulating direct investment and employment, their role appears to be more valuable in bringing about economic transformation from a resource-led economy to a skill and technology-led economy; from low value added economic activities to high value added economic activities; from low productive sectors to'),\n",
       " _annot(color=(235, 40, 19), color_name='OrangeRed', atype='Underline', page=1, text='Abstract: This study aims at examining the economic impacts of SEZs in the Indian context. While doing so, it addresses the conceptual confusion about SEZs, outlines the evolution of SEZs; traces'),\n",
       " _annot(color=(124, 200, 103), color_name='DarkSeaGreen', atype='Highlight', page=1, text='But the growth in SEZ employment was faster outside of China'),\n",
       " _annot(color=(235, 40, 19), color_name='OrangeRed', atype='StrikeOut', page=1, text='from'),\n",
       " _annot(color=(249, 205, 89), color_name='SandyBrown', atype='Highlight', page=2, text='SEZ Act in 2005 to encourage industrial growth'),\n",
       " _annot(color=(105, 175, 240), color_name='CornflowerBlue', atype='Highlight', page=2, text='Serious concerns have been raised over the economic rationale of'),\n",
       " _annot(color=(235, 40, 19), color_name='OrangeRed', atype='StrikeOut', page=2, text='In line with the changing economic environment the world over, the government of India also upgraded its “export processing zones” (EPZs) to “special economic zones” in 2000, and enacted a'),\n",
       " _annot(color=(200, 133, 218), color_name='Orchid', atype='Highlight', page=3, text='clear the mist over the SEZ concept;'),\n",
       " _annot(color=(200, 133, 218), color_name='Orchid', atype='Highlight', page=3, text='Rajasthan (Jaipur, Jodhpur),')]"
      ]
     },
     "execution_count": 1,
     "metadata": {},
     "output_type": "execute_result"
    }
   ],
   "source": [
    "\n",
    "\n"
   ]
  },
  {
   "cell_type": "code",
   "execution_count": null,
   "id": "69aa14d7-a840-4029-b2e9-14e90c3e4200",
   "metadata": {},
   "outputs": [],
   "source": []
  }
 ],
 "metadata": {
  "kernelspec": {
   "display_name": "Python 3",
   "language": "python",
   "name": "python3"
  },
  "language_info": {
   "codemirror_mode": {
    "name": "ipython",
    "version": 3
   },
   "file_extension": ".py",
   "mimetype": "text/x-python",
   "name": "python",
   "nbconvert_exporter": "python",
   "pygments_lexer": "ipython3",
   "version": "3.9.6"
  }
 },
 "nbformat": 4,
 "nbformat_minor": 5
}
