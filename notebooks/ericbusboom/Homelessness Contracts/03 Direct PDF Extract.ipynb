{
 "cells": [
  {
   "cell_type": "markdown",
   "id": "de95af80-67c9-49e6-b91b-c711fd015ab8",
   "metadata": {},
   "source": [
    "# Extract Documents\n",
    "\n",
    "Extract the text from the PDFs and store the text as pickles\n"
   ]
  },
  {
   "cell_type": "code",
   "execution_count": null,
   "id": "3d1adbd9-0188-448c-9755-557c63ae1a38",
   "metadata": {},
   "outputs": [],
   "source": [
    "import spacy\n",
    "import textract\n",
    "from tqdm.notebook import tqdm\n",
    "from collections import Counter, defaultdict\n",
    "import pickle\n",
    "from pathlib import Path\n",
    "import random\n",
    "spacy.__version__"
   ]
  },
  {
   "cell_type": "code",
   "execution_count": null,
   "id": "16c4a222-eb36-4da9-b4bc-bca9f47108a3",
   "metadata": {},
   "outputs": [],
   "source": [
    "from spacy.tokens import DocBin, Doc\n",
    "Doc.set_extension(\"pdf_path\", default=None)\n"
   ]
  },
  {
   "cell_type": "code",
   "execution_count": null,
   "id": "bb14af59-4dca-4fcd-8de7-5f90c1f838ff",
   "metadata": {},
   "outputs": [],
   "source": [
    "from pathlib import Path\n",
    "\n",
    "root = '/Users/eric/proj/data-projects/text-classification/source-data/homelessness-contracts/pdfs'\n",
    "\n",
    "files = list(Path(root).glob('**/*.pdf'))\n",
    "d = { e.name:e for e in files }\n",
    "\n",
    "pdfs = list(d.values())\n",
    "len(pdfs)"
   ]
  },
  {
   "cell_type": "code",
   "execution_count": null,
   "id": "cacf6414-8d94-43e0-9880-58b4b09a416c",
   "metadata": {},
   "outputs": [],
   "source": [
    "\n",
    "pth  = Path('texts.pkl')\n",
    "\n",
    "if not pth.exists():\n",
    "    texts = {}\n",
    "    open_errors = []\n",
    "    for pdf_path in tqdm(pdfs):\n",
    "\n",
    "        try:\n",
    "            texts[pdf_path] = textract.process(pdf_path)\n",
    "        except TypeError as e:\n",
    "            open_errors.append( (pdf_path, e) )\n",
    "            continue\n",
    "\n",
    "    print(len(texts), len(open_errors))\n",
    "\n",
    "    with pth.open('wb') as f:\n",
    "        pickle.dump(texts, f)\n",
    "\n",
    "\n",
    "        "
   ]
  },
  {
   "cell_type": "code",
   "execution_count": null,
   "id": "aba8f149-f103-4d01-86d6-d522b2cb553d",
   "metadata": {},
   "outputs": [],
   "source": [
    "model = \"en_core_web_lg\"\n",
    "\n",
    "text_path  = Path('texts.pkl')\n",
    "docs_path  = Path(f'docs-{model}.spacy')\n",
    "nlp_path = Path(f'nlp-{model}.spacy')\n",
    "\n",
    "\n",
    "nlp = spacy.load(model)\n",
    "nlp.max_length = 3000000\n",
    "\n",
    "if not nlp_path.exists():\n",
    "    \n",
    "\n",
    "    nlp_errors = []\n",
    "    other_errors = []\n",
    "\n",
    "    with pth.open('rb') as f:\n",
    "        texts = pickle.load(f)\n",
    "\n",
    "    docs = {}\n",
    "    for pdf_path, text in tqdm(list(texts.items())):\n",
    "\n",
    "        try:\n",
    "            doc =  nlp(text.decode('utf-8') )\n",
    "            doc._.pdf_path = str(pdf_path)\n",
    "            docs[pdf_path] =  doc\n",
    "        except ValueError as e:\n",
    "            nlp_errors.append( (pdf_path, e) )\n",
    "        except Exception as e:\n",
    "            other_errors.append( (pdf_path, e) )\n",
    "\n",
    "    nlp.to_disk(nlp_path)\n",
    "    print(len(docs),  len(nlp_errors), len(other_errors))\n",
    "else:\n",
    "    nlp = nlp.from_disk(nlp_path)\n",
    "\n"
   ]
  },
  {
   "cell_type": "code",
   "execution_count": null,
   "id": "c8aeeaae-c403-45a0-b867-c39b66662921",
   "metadata": {},
   "outputs": [],
   "source": [
    "doc_bin = DocBin(docs=[e for _, e in docs.items() if isinstance(e, Doc)],  store_user_data=True)\n",
    "doc_bin.to_disk(docs_path)\n",
    "    "
   ]
  },
  {
   "cell_type": "code",
   "execution_count": null,
   "id": "2ee07dec-4b27-455a-ba19-928417499d5f",
   "metadata": {},
   "outputs": [],
   "source": []
  }
 ],
 "metadata": {
  "kernelspec": {
   "display_name": "Python 3",
   "language": "python",
   "name": "python3"
  },
  "language_info": {
   "codemirror_mode": {
    "name": "ipython",
    "version": 3
   },
   "file_extension": ".py",
   "mimetype": "text/x-python",
   "name": "python",
   "nbconvert_exporter": "python",
   "pygments_lexer": "ipython3",
   "version": "3.7.6"
  }
 },
 "nbformat": 4,
 "nbformat_minor": 5
}
