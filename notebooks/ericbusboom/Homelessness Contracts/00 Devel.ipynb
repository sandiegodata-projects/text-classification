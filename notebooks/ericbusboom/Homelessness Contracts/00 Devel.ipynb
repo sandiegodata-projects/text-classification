{
 "cells": [
  {
   "cell_type": "code",
   "execution_count": 1,
   "id": "3d1adbd9-0188-448c-9755-557c63ae1a38",
   "metadata": {},
   "outputs": [
    {
     "data": {
      "text/plain": [
       "'3.1.1'"
      ]
     },
     "execution_count": 1,
     "metadata": {},
     "output_type": "execute_result"
    }
   ],
   "source": [
    "import pandas as pd \n",
    "import numpy as np \n",
    "import spacy\n",
    "\n",
    "from spacy.tokens import Doc, DocBin\n",
    "from spacy.matcher import PhraseMatcher\n",
    "from spacy import displacy\n",
    "\n",
    "from tqdm.notebook import tqdm\n",
    "from collections import Counter, defaultdict\n",
    "import pickle\n",
    "from pathlib import Path\n",
    "import random\n",
    "from joblib import Parallel, delayed\n",
    "\n",
    "from collections import Counter\n",
    "import phonetics \n",
    "\n",
    "\n",
    "from itertools import islice\n",
    "from tqdm.notebook import tqdm\n",
    "\n",
    "import matplotlib.pyplot as plt\n",
    "%matplotlib inline\n",
    "\n",
    "Doc.set_extension(\"pdf_path\", default=None)\n",
    "\n",
    "\n",
    "spacy.__version__"
   ]
  },
  {
   "cell_type": "code",
   "execution_count": 2,
   "id": "aba8f149-f103-4d01-86d6-d522b2cb553d",
   "metadata": {},
   "outputs": [],
   "source": [
    "# The documents saved in a previous notebook \n",
    "\n",
    "#!  python -m spacy download en_core_web_sm\n",
    "model = \"en_core_web_lg\"\n",
    "\n",
    "text_path  = Path('texts.pkl')\n",
    "docs_path  = Path(f'docs-{model}.spacy')\n",
    "nlp_path = Path(f'nlp-{model}.spacy')\n",
    "\n",
    "nlp = spacy.load(model)\n",
    "nlp.max_length = 3000000\n",
    "\n",
    "nlp = nlp.from_disk(nlp_path)\n",
    "doc_bin = DocBin().from_disk(docs_path)\n",
    "docs = list(doc_bin.get_docs(nlp.vocab))"
   ]
  },
  {
   "cell_type": "code",
   "execution_count": 3,
   "id": "c8657325-69b3-4c80-8673-755396eec58c",
   "metadata": {},
   "outputs": [
    {
     "name": "stdout",
     "output_type": "stream",
     "text": [
      "CPU times: user 7.14 s, sys: 26.1 ms, total: 7.17 s\n",
      "Wall time: 7.2 s\n"
     ]
    }
   ],
   "source": [
    "%%time \n",
    "\n",
    "import re\n",
    "p = re.compile(r'\\W+')\n",
    "\n",
    "docv = list(docs)\n",
    "\n",
    "wd = defaultdict(list)\n",
    "\n",
    "for d in docv:\n",
    "    for e in  d.ents:\n",
    "        if not str(e).isnumeric():\n",
    "            wd[e.label_].append(p.sub(' ', str(e.lemma_)).lower() )\n",
    "\n",
    "cd = defaultdict(Counter)\n",
    "\n",
    "for k, v in wd.items():\n",
    "    cd[k].update(v)\n"
   ]
  },
  {
   "cell_type": "code",
   "execution_count": 4,
   "id": "02952402-dacf-4183-b6e6-a281199c5f52",
   "metadata": {},
   "outputs": [
    {
     "name": "stderr",
     "output_type": "stream",
     "text": [
      "<timed exec>:3: UserWarning: [W101] Skipping Doc custom extension 'pdf_path' while merging docs.\n"
     ]
    },
    {
     "name": "stdout",
     "output_type": "stream",
     "text": [
      "CPU times: user 37.9 s, sys: 3.39 s, total: 41.3 s\n",
      "Wall time: 41.7 s\n"
     ]
    }
   ],
   "source": [
    "%%time\n",
    "# Make a single combined document\n",
    "from spacy.tokens import Doc\n",
    "cdocs = Doc.from_docs(docv)"
   ]
  },
  {
   "cell_type": "code",
   "execution_count": 5,
   "id": "0458bd2a-76df-43f9-a4f1-1dba07df518a",
   "metadata": {},
   "outputs": [
    {
     "data": {
      "text/plain": [
       "(18,\n",
       " {'CARDINAL',\n",
       "  'DATE',\n",
       "  'EVENT',\n",
       "  'FAC',\n",
       "  'GPE',\n",
       "  'LANGUAGE',\n",
       "  'LAW',\n",
       "  'LOC',\n",
       "  'MONEY',\n",
       "  'NORP',\n",
       "  'ORDINAL',\n",
       "  'ORG',\n",
       "  'PERCENT',\n",
       "  'PERSON',\n",
       "  'PRODUCT',\n",
       "  'QUANTITY',\n",
       "  'TIME',\n",
       "  'WORK_OF_ART'})"
      ]
     },
     "execution_count": 5,
     "metadata": {},
     "output_type": "execute_result"
    }
   ],
   "source": [
    "ents = cdocs.ents\n",
    "labels = { e.label_ for e in ents }\n",
    "len(labels), labels"
   ]
  },
  {
   "cell_type": "code",
   "execution_count": 6,
   "id": "d4650848-491f-4c05-871a-72323d22e9cd",
   "metadata": {},
   "outputs": [],
   "source": [
    "# Create a full entities dataset\n",
    "rows = []\n",
    "for ent in ents:\n",
    "    p = tuple(t.lemma_.lower() for t in list(ent) if  t.is_alpha and not t.is_stop)\n",
    "    if p:\n",
    "        rows.append([ent.label_, ' '.join(p), p, len(p), ent, ent.start, ent.end, ent.sent])\n",
    "    \n",
    "ent_df = pd.DataFrame(rows,columns='label pstr p plen ent start end sentence'.split())\n",
    "#t['sentence']  = t.sentence.str.replace('\\n',' ')"
   ]
  },
  {
   "cell_type": "code",
   "execution_count": 7,
   "id": "81c11a79-a6b0-4985-af15-242982eefe30",
   "metadata": {},
   "outputs": [
    {
     "data": {
      "text/html": [
       "<div>\n",
       "<style scoped>\n",
       "    .dataframe tbody tr th:only-of-type {\n",
       "        vertical-align: middle;\n",
       "    }\n",
       "\n",
       "    .dataframe tbody tr th {\n",
       "        vertical-align: top;\n",
       "    }\n",
       "\n",
       "    .dataframe thead th {\n",
       "        text-align: right;\n",
       "    }\n",
       "</style>\n",
       "<table border=\"1\" class=\"dataframe\">\n",
       "  <thead>\n",
       "    <tr style=\"text-align: right;\">\n",
       "      <th></th>\n",
       "      <th>label</th>\n",
       "      <th>pstr</th>\n",
       "      <th>p</th>\n",
       "      <th>plen</th>\n",
       "      <th>ent</th>\n",
       "      <th>start</th>\n",
       "      <th>end</th>\n",
       "      <th>sentence</th>\n",
       "    </tr>\n",
       "  </thead>\n",
       "  <tbody>\n",
       "    <tr>\n",
       "      <th>0</th>\n",
       "      <td>GPE</td>\n",
       "      <td>county san diego</td>\n",
       "      <td>(county, san, diego)</td>\n",
       "      <td>3</td>\n",
       "      <td>(the, County, of, San, Diego)</td>\n",
       "      <td>53</td>\n",
       "      <td>58</td>\n",
       "      <td>(This, agreement, (, \", Agreement, \", ), is, m...</td>\n",
       "    </tr>\n",
       "    <tr>\n",
       "      <th>1</th>\n",
       "      <td>GPE</td>\n",
       "      <td>state california</td>\n",
       "      <td>(state, california)</td>\n",
       "      <td>2</td>\n",
       "      <td>(the, State, of, California)</td>\n",
       "      <td>63</td>\n",
       "      <td>67</td>\n",
       "      <td>(This, agreement, (, \", Agreement, \", ), is, m...</td>\n",
       "    </tr>\n",
       "    <tr>\n",
       "      <th>2</th>\n",
       "      <td>ORG</td>\n",
       "      <td>alpha project</td>\n",
       "      <td>(alpha, project)</td>\n",
       "      <td>2</td>\n",
       "      <td>(Alpha, Project)</td>\n",
       "      <td>73</td>\n",
       "      <td>75</td>\n",
       "      <td>(This, agreement, (, \", Agreement, \", ), is, m...</td>\n",
       "    </tr>\n",
       "    <tr>\n",
       "      <th>3</th>\n",
       "      <td>NORP</td>\n",
       "      <td>homeless</td>\n",
       "      <td>(homeless,)</td>\n",
       "      <td>1</td>\n",
       "      <td>(Homeless)</td>\n",
       "      <td>77</td>\n",
       "      <td>78</td>\n",
       "      <td>(This, agreement, (, \", Agreement, \", ), is, m...</td>\n",
       "    </tr>\n",
       "    <tr>\n",
       "      <th>4</th>\n",
       "      <td>FAC</td>\n",
       "      <td>avenue</td>\n",
       "      <td>(avenue,)</td>\n",
       "      <td>1</td>\n",
       "      <td>(3737, 5th, Avenue)</td>\n",
       "      <td>88</td>\n",
       "      <td>91</td>\n",
       "      <td>(This, agreement, (, \", Agreement, \", ), is, m...</td>\n",
       "    </tr>\n",
       "  </tbody>\n",
       "</table>\n",
       "</div>"
      ],
      "text/plain": [
       "  label              pstr                     p  plen  \\\n",
       "0   GPE  county san diego  (county, san, diego)     3   \n",
       "1   GPE  state california   (state, california)     2   \n",
       "2   ORG     alpha project      (alpha, project)     2   \n",
       "3  NORP          homeless           (homeless,)     1   \n",
       "4   FAC            avenue             (avenue,)     1   \n",
       "\n",
       "                             ent  start  end  \\\n",
       "0  (the, County, of, San, Diego)     53   58   \n",
       "1   (the, State, of, California)     63   67   \n",
       "2               (Alpha, Project)     73   75   \n",
       "3                     (Homeless)     77   78   \n",
       "4            (3737, 5th, Avenue)     88   91   \n",
       "\n",
       "                                            sentence  \n",
       "0  (This, agreement, (, \", Agreement, \", ), is, m...  \n",
       "1  (This, agreement, (, \", Agreement, \", ), is, m...  \n",
       "2  (This, agreement, (, \", Agreement, \", ), is, m...  \n",
       "3  (This, agreement, (, \", Agreement, \", ), is, m...  \n",
       "4  (This, agreement, (, \", Agreement, \", ), is, m...  "
      ]
     },
     "execution_count": 7,
     "metadata": {},
     "output_type": "execute_result"
    }
   ],
   "source": [
    "ent_df.head()"
   ]
  },
  {
   "cell_type": "code",
   "execution_count": 8,
   "id": "26934bf3-989d-49d3-8c44-b932127c0ec6",
   "metadata": {
    "tags": []
   },
   "outputs": [
    {
     "name": "stdout",
     "output_type": "stream",
     "text": [
      "91483 91483 3425\n"
     ]
    },
    {
     "data": {
      "text/plain": [
       "[('county', 37664),\n",
       " ('san diego', 10691),\n",
       " ('county san diego', 4815),\n",
       " ('california', 3761),\n",
       " ('san diego county', 3449),\n",
       " ('', 2366),\n",
       " ('state california', 2053),\n",
       " ('united states', 1266),\n",
       " ('escondido', 894),\n",
       " ('county san', 806),\n",
       " ('el cajon', 763),\n",
       " ('diego', 667),\n",
       " ('oceanside', 575),\n",
       " ('east county', 472),\n",
       " ('north county', 466),\n",
       " ('san', 465),\n",
       " ('ymca', 441),\n",
       " ('los angeles', 420),\n",
       " ('carlsbad', 390),\n",
       " ('united states america', 341),\n",
       " ('usa', 327),\n",
       " ('san marcos', 279),\n",
       " ('city', 269),\n",
       " ('md', 257),\n",
       " ('diego county', 235),\n",
       " ('qar', 233),\n",
       " ('city san', 224),\n",
       " ('del mar', 214),\n",
       " ('tenn', 195),\n",
       " ('city san diego', 195),\n",
       " ('conjunction', 195),\n",
       " ('san diego county code', 184),\n",
       " ('camino del rio south', 169),\n",
       " ('encinitas', 158),\n",
       " ('vista hill', 154),\n",
       " ('san bernardino', 146),\n",
       " ('america', 145),\n",
       " ('san diego city', 141),\n",
       " ('national city', 136),\n",
       " ('city el cajon', 136),\n",
       " ('city vista', 134),\n",
       " ('county contractors', 129),\n",
       " ('fresno', 129),\n",
       " ('walden', 126),\n",
       " ('la mesa', 117),\n",
       " ('north san diego county', 116),\n",
       " ('fl', 114),\n",
       " ('alameda', 112),\n",
       " ('san francisco', 110),\n",
       " ('mi', 109)]"
      ]
     },
     "execution_count": 8,
     "metadata": {},
     "output_type": "execute_result"
    }
   ],
   "source": [
    "\n",
    "def ents_by_type(typ):\n",
    "    return [ e for e in ents if str(e.label_) == typ ]\n",
    "\n",
    "orig_orgs = ents_by_type('DATE')\n",
    "#x =random.sample(list(sorted(set())), 40)\n",
    "orgs = list(set([ ' '.join([phonetics.metaphone(str(t).lower()) for t in list(e) if  t.is_alpha and not t.is_stop]) for e in orig_orgs ]))\n",
    "\n",
    "orig_ents = ents_by_type('GPE')\n",
    "\n",
    "p_ents = [ ' '.join([t.lemma_.lower() for t in list(e) if  t.is_alpha and not t.is_stop]) for e in orig_ents ]\n",
    "u_ents = list(set(p_ents))\n",
    "\n",
    "print(len(orig_ents), len(p_ents), len(u_ents))\n",
    "\n",
    "Counter(p_ents).most_common(50)"
   ]
  },
  {
   "cell_type": "markdown",
   "id": "4aee2219-379f-4e30-855a-cddfe43db7a4",
   "metadata": {},
   "source": [
    "# Matching Requirements"
   ]
  },
  {
   "cell_type": "code",
   "execution_count": 9,
   "id": "92d6e91a-a373-420a-81bc-ba5b31a66d5b",
   "metadata": {},
   "outputs": [
    {
     "data": {
      "application/vnd.jupyter.widget-view+json": {
       "model_id": "d11df17a8f9445d69c89931a7db62210",
       "version_major": 2,
       "version_minor": 0
      },
      "text/plain": [
       "  0%|          | 0/876 [00:00<?, ?it/s]"
      ]
     },
     "metadata": {},
     "output_type": "display_data"
    },
    {
     "name": "stdout",
     "output_type": "stream",
     "text": [
      "CPU times: user 1.11 s, sys: 104 ms, total: 1.22 s\n",
      "Wall time: 1.21 s\n"
     ]
    },
    {
     "data": {
      "text/plain": [
       "98261"
      ]
     },
     "execution_count": 9,
     "metadata": {},
     "output_type": "execute_result"
    }
   ],
   "source": [
    "%%time\n",
    "import spacy\n",
    "from spacy.matcher import PhraseMatcher\n",
    "from itertools import islice\n",
    "from tqdm.notebook import tqdm\n",
    "\n",
    "phrase_matcher = PhraseMatcher(nlp.vocab)\n",
    "phrases = ['contractor', 'sub-contractor', 'sub-recipient', 'recipient', 'party','offeror'\n",
    "           'shall','must','will','require','ensure']\n",
    "patterns = [nlp(text) for text in phrases]\n",
    "phrase_matcher.add('contr_shall', None, *patterns)\n",
    "\n",
    "contr_shall = {}\n",
    "\n",
    "i = 0\n",
    "\n",
    "contr_matches = {}\n",
    "for doc in tqdm(list(docs)):\n",
    "  \n",
    "    for match_id, start, end in phrase_matcher(doc):\n",
    "        span = doc[start:end]\n",
    "        contr_matches[(id(doc), start, end)] = span.sent\n",
    "\n",
    "len(contr_matches)\n",
    "      "
   ]
  },
  {
   "cell_type": "code",
   "execution_count": 10,
   "id": "bedb124c-e447-4f3b-84cc-3545df0aef71",
   "metadata": {},
   "outputs": [
    {
     "data": {
      "text/plain": [
       "(98261, 23869)"
      ]
     },
     "execution_count": 10,
     "metadata": {},
     "output_type": "execute_result"
    }
   ],
   "source": [
    "import re\n",
    "p = re.compile(r'(contractor|recipient|party|offeror).*(shall|must|will)')\n",
    "cm = { k:v for k, v in contr_matches.items() if p.search(v.text.replace('\\n',' ').lower()) }\n",
    "        \n",
    "len(   contr_matches), len(cm)"
   ]
  },
  {
   "cell_type": "code",
   "execution_count": 11,
   "id": "08b9f90c-bb26-4ad1-8792-1ad5855d73d4",
   "metadata": {},
   "outputs": [
    {
     "name": "stdout",
     "output_type": "stream",
     "text": [
      "Nothing herein shall be construed to require access to any privileged or confidential information as set forth in Federal or State law.  (e)  SUBRECIPIENT shall allow CITY to annually audit all CDBG funds associated with the Project, pursuant to federal regulations found in Title 24 of the Code of Federal Regulations and other applicable federal laws and regulations.\n",
      "\n",
      "Subrecipient understands that the Project Compensation will be paid from CDBG funds and such amounts shall be received and utilized  Only actual expenses incurred by Subrecipient are eligible for reimbursement, and then only to the extent solely for the Project pursuant to all of the terms and conditions of this Agreement.\n",
      "\n",
      "Contractor shall also ensure that their staff will be trained in Copeland’s ‘Wellness Recovery Action Planning’ (WRAP®), SAMHSA’s ‘Illness Management and Recovery’ Implementation Resource Kit, and evidence-based social skills training, and the Contractor will incorporate these and other recoveryoriented and empowerment-building practices into its service delivery.\n",
      "\n",
      " If any services performed hereunder are not in conformity with the specifications and requirements of this Agreement, County shall have the right to require the Contractor to perform the services in conformity with said specifications and requirements at no additional increase in total Agreement amount.\n",
      "\n",
      "90% of participants shall establish and maintain a relationship with a safe and supportive adult who will provide support and guidance after program completion.\n",
      "\n",
      "Contractor shall have a documented process to review criminal history of candidates for employment or volunteers under this Agreement that will be in sensitive positions as defined in paragraph 16.21.4.\n",
      "\n",
      " 5.15.20 Program staff shall receive training on the ACT model and will be trained in ACT model implementation and fidelity.\n",
      "\n",
      " Without limiting the obligations of Contractor pursuant to any other clause in Exhibit A herein, Contractor shall, subject to the terms of any third-party agreements, procure at no charge to County any third-party authorizations necessary to grant County the use and benefit of any third-party agreements between Contractor and third-party contractors used to provide the Disentangled Services, pending their assignment to County .\n"
     ]
    }
   ],
   "source": [
    "from random import sample\n",
    "\n",
    "samp = sample(list(contr_matches.values()), 40)\n",
    "\n",
    "print('\\n\\n'.join(e.text.replace('\\n',' ') for e in samp if 'shall' in e.text))"
   ]
  },
  {
   "cell_type": "markdown",
   "id": "167b5f3e-16cb-4435-b8d8-9a48485f62f6",
   "metadata": {},
   "source": [
    "# Matching Emails and URLs"
   ]
  },
  {
   "cell_type": "code",
   "execution_count": 12,
   "id": "746c79ae-00d8-411e-b107-b8811acfeea4",
   "metadata": {},
   "outputs": [
    {
     "data": {
      "text/html": [
       "<div>\n",
       "<style scoped>\n",
       "    .dataframe tbody tr th:only-of-type {\n",
       "        vertical-align: middle;\n",
       "    }\n",
       "\n",
       "    .dataframe tbody tr th {\n",
       "        vertical-align: top;\n",
       "    }\n",
       "\n",
       "    .dataframe thead th {\n",
       "        text-align: right;\n",
       "    }\n",
       "</style>\n",
       "<table border=\"1\" class=\"dataframe\">\n",
       "  <thead>\n",
       "    <tr style=\"text-align: right;\">\n",
       "      <th></th>\n",
       "      <th>match_id</th>\n",
       "      <th>string_id</th>\n",
       "      <th>start</th>\n",
       "      <th>end</th>\n",
       "      <th>text</th>\n",
       "    </tr>\n",
       "  </thead>\n",
       "  <tbody>\n",
       "    <tr>\n",
       "      <th>0</th>\n",
       "      <td>12303433538686809003</td>\n",
       "      <td>Url</td>\n",
       "      <td>3780</td>\n",
       "      <td>3781</td>\n",
       "      <td>https://www.ecfr.gov/cgi-bin/text-idx?tpl=/ecf...</td>\n",
       "    </tr>\n",
       "    <tr>\n",
       "      <th>1</th>\n",
       "      <td>12303433538686809003</td>\n",
       "      <td>Url</td>\n",
       "      <td>3886</td>\n",
       "      <td>3887</td>\n",
       "      <td>http://www.gsa.gov/portal/category/21287</td>\n",
       "    </tr>\n",
       "    <tr>\n",
       "      <th>2</th>\n",
       "      <td>12303433538686809003</td>\n",
       "      <td>Url</td>\n",
       "      <td>11803</td>\n",
       "      <td>11804</td>\n",
       "      <td>http://www.sandiegocounty.gov/content/sdc/cao/...</td>\n",
       "    </tr>\n",
       "    <tr>\n",
       "      <th>3</th>\n",
       "      <td>11010771136823990775</td>\n",
       "      <td>Email</td>\n",
       "      <td>14508</td>\n",
       "      <td>14509</td>\n",
       "      <td>ACS.HHSA@sdcounty.ca.gov</td>\n",
       "    </tr>\n",
       "    <tr>\n",
       "      <th>4</th>\n",
       "      <td>12303433538686809003</td>\n",
       "      <td>Url</td>\n",
       "      <td>20662</td>\n",
       "      <td>20663</td>\n",
       "      <td>https://www.coveredca.com/</td>\n",
       "    </tr>\n",
       "  </tbody>\n",
       "</table>\n",
       "</div>"
      ],
      "text/plain": [
       "               match_id string_id  start    end  \\\n",
       "0  12303433538686809003       Url   3780   3781   \n",
       "1  12303433538686809003       Url   3886   3887   \n",
       "2  12303433538686809003       Url  11803  11804   \n",
       "3  11010771136823990775     Email  14508  14509   \n",
       "4  12303433538686809003       Url  20662  20663   \n",
       "\n",
       "                                                text  \n",
       "0  https://www.ecfr.gov/cgi-bin/text-idx?tpl=/ecf...  \n",
       "1           http://www.gsa.gov/portal/category/21287  \n",
       "2  http://www.sandiegocounty.gov/content/sdc/cao/...  \n",
       "3                           ACS.HHSA@sdcounty.ca.gov  \n",
       "4                         https://www.coveredca.com/  "
      ]
     },
     "execution_count": 12,
     "metadata": {},
     "output_type": "execute_result"
    }
   ],
   "source": [
    "# Find emails and URLS\n",
    "from spacy.matcher import Matcher\n",
    "\n",
    "matcher = Matcher(nlp.vocab)\n",
    "\n",
    "matcher.add(\"Email\", [[{'LIKE_EMAIL': True}]])\n",
    "matcher.add(\"Url\", [[{'LIKE_URL': True, \"TEXT\": {\"REGEX\": \"^https?:\\/\\/[^\\/]+\\.\\w\\w\\w\\/\"}}]])\n",
    "\n",
    "from itertools import islice \n",
    "\n",
    "matches = []\n",
    "\n",
    "for doc in docs:\n",
    "    for match_id, start, end in matcher(doc):\n",
    "        string_id = nlp.vocab.strings[match_id]  # Get string representation\n",
    "        span = doc[start:end]  # The matched span\n",
    "        matches.append([match_id, string_id, start, end, span.text])\n",
    "\n",
    "t = pd.DataFrame(matches, columns = 'match_id string_id start end text'.split())\n",
    "t.head()\n",
    "        "
   ]
  },
  {
   "cell_type": "markdown",
   "id": "f5c5a5ab-258b-424f-9a92-705481b5793b",
   "metadata": {},
   "source": [
    "# Cities and The County\n"
   ]
  },
  {
   "cell_type": "code",
   "execution_count": 13,
   "id": "fcfa11f6-d4e4-41b4-b635-78398418332a",
   "metadata": {},
   "outputs": [],
   "source": [
    "cities = \"\"\"\n",
    "Carlsbad\n",
    "Chula Vista\n",
    "Coronado\n",
    "Del Mar\n",
    "El Cajon\n",
    "Encinitas\n",
    "Escondido\n",
    "Imperial Beach\n",
    "La Mesa\n",
    "Lemon Grove\n",
    "National City\n",
    "Oceanside\n",
    "Poway\n",
    "San Diego\n",
    "San Marcos\n",
    "Santee\n",
    "Solana Beach\n",
    "Vista\n",
    "San Diego County\n",
    "County of San Diego\n",
    "\"\"\"\n",
    "\n",
    "\n",
    "phrase_matcher = PhraseMatcher(nlp.vocab)\n",
    "phrases = [ e for e in cities.splitlines() if e ]\n",
    "patterns = [nlp(text) for text in phrases]\n",
    "phrase_matcher.add('gpe', None, *patterns)"
   ]
  },
  {
   "cell_type": "code",
   "execution_count": 14,
   "id": "cc67fd78-bfcc-4ac1-b9fc-97ba0f8f4832",
   "metadata": {},
   "outputs": [
    {
     "data": {
      "application/vnd.jupyter.widget-view+json": {
       "model_id": "f252d349719a493687175b0b1dca335e",
       "version_major": 2,
       "version_minor": 0
      },
      "text/plain": [
       "  0%|          | 0/100 [00:00<?, ?it/s]"
      ]
     },
     "metadata": {},
     "output_type": "display_data"
    },
    {
     "data": {
      "text/plain": [
       "8535"
      ]
     },
     "execution_count": 14,
     "metadata": {},
     "output_type": "execute_result"
    }
   ],
   "source": [
    "gpes = []\n",
    "for doc in tqdm(list(islice(docs, 100))):\n",
    "  \n",
    "    for match_id, start, end in phrase_matcher(doc):\n",
    "        span = doc[start:end]\n",
    "        gpes.append(span.sent)\n",
    "\n",
    "len(gpes)"
   ]
  },
  {
   "cell_type": "code",
   "execution_count": 15,
   "id": "6b47aefb-e528-42b8-8eda-64a9c11ee476",
   "metadata": {},
   "outputs": [
    {
     "data": {
      "text/plain": [
       "\"RECITALS A.  Pursuant to Administrative Code section 401, the County's Director of the Department of Purchasing and Contracting is authorized to award a contract for Housing Navigation and Case Management Services for the Homeless program.\""
      ]
     },
     "execution_count": 15,
     "metadata": {},
     "output_type": "execute_result"
    }
   ],
   "source": [
    "list(gpes[10].doc.sents)[2].text.replace('\\n',' ')"
   ]
  },
  {
   "cell_type": "markdown",
   "id": "a1f1517b-81cb-4765-8018-e394e805f4ea",
   "metadata": {},
   "source": [
    "# Agreement Statement"
   ]
  },
  {
   "cell_type": "code",
   "execution_count": 16,
   "id": "fff77643-9843-4be1-b9f7-552c208bc6b6",
   "metadata": {},
   "outputs": [
    {
     "data": {
      "application/vnd.jupyter.widget-view+json": {
       "model_id": "3bdd5930560f4b9993f0c33635ebf6ae",
       "version_major": 2,
       "version_minor": 0
      },
      "text/plain": [
       "  0%|          | 0/876 [00:00<?, ?it/s]"
      ]
     },
     "metadata": {},
     "output_type": "display_data"
    },
    {
     "name": "stdout",
     "output_type": "stream",
     "text": [
      " 26678 Matches \n"
     ]
    }
   ],
   "source": [
    "cities = \"\"\"\n",
    "agreement\n",
    "contract\n",
    "ammendment\n",
    "by and between\n",
    "made and entered\n",
    "corporation\n",
    "enter into\n",
    "entered into\n",
    "as described herein\n",
    "\"\"\"\n",
    "\n",
    "phrase_matcher = PhraseMatcher(nlp.vocab)\n",
    "phrases = [ e for e in cities.splitlines() if e ]\n",
    "patterns = [nlp(text) for text in phrases]\n",
    "phrase_matcher.add('agreement', None, *patterns)\n",
    "\n",
    "\n",
    "agr_matches = {}\n",
    "for doc in tqdm(list(docs)):\n",
    "  \n",
    "    for match_id, start, end in phrase_matcher(doc):\n",
    "        span = doc[start:end]\n",
    "        agr_matches[(id(doc), start, end)] = span.sent\n",
    "\n",
    "print( f\" {len(agr_matches)} Matches \")\n"
   ]
  },
  {
   "cell_type": "code",
   "execution_count": 17,
   "id": "b19d8ae6-34bb-41c8-9a18-181a1d3ac2b8",
   "metadata": {},
   "outputs": [
    {
     "data": {
      "text/plain": [
       "[('any subcontract or', 578),\n",
       " ('contractor shall submit', 525),\n",
       " ('the following information', 433),\n",
       " ('this agreement agreement', 366),\n",
       " ('if contractor becomes', 352),\n",
       " ('', 303),\n",
       " ('contractor shall not', 292),\n",
       " ('if contractor after', 280),\n",
       " ('in the event', 280),\n",
       " ('contractor shall provide', 265),\n",
       " ('amendment no', 253),\n",
       " ('amendment d', 249),\n",
       " ('contractor shall include', 212),\n",
       " ('if contractor is', 203),\n",
       " ('background instructions the', 195),\n",
       " ('the name contract', 186),\n",
       " ('this indemnification agreement', 180),\n",
       " ('the contractor shall', 167),\n",
       " ('no subcontract utilizing', 163),\n",
       " ('this budget will', 157),\n",
       " ('this agreement together', 148),\n",
       " ('without limiting contractor', 131),\n",
       " ('contractor shall', 130),\n",
       " ('as a requirement', 123),\n",
       " ('county may in', 117),\n",
       " ('if coverage provided', 116),\n",
       " ('contractor shall notify', 114),\n",
       " ('gift cards that', 113),\n",
       " ('however if this', 110),\n",
       " ('no federal appropriated', 110),\n",
       " ('contractor', 108),\n",
       " ('you or', 105),\n",
       " ('byrd anti lobbying', 105),\n",
       " ('coverage shall be', 104),\n",
       " ('contractors with an', 97),\n",
       " ('this agreement is', 94),\n",
       " ('the county may', 93),\n",
       " ('alternatively at the', 91),\n",
       " ('county may terminate', 91),\n",
       " ('to ensure equal', 86)]"
      ]
     },
     "execution_count": 17,
     "metadata": {},
     "output_type": "execute_result"
    }
   ],
   "source": [
    "\n",
    "c = Counter([ ' '.join(list(e.text for e in v[:5] if e.is_alpha)[:3])\\\n",
    "             .replace('\\n','').strip().lower() \n",
    "             for k, v in agr_matches.items() ])\n",
    "c.most_common(40)\n"
   ]
  },
  {
   "cell_type": "code",
   "execution_count": 18,
   "id": "0966ee9b-6628-43de-9dff-e6fe5ca7af08",
   "metadata": {},
   "outputs": [],
   "source": [
    "import re\n",
    "p = re.compile(r'(agreement|contract).*\\\".*(made|entered|by|between).*'\n",
    "               '(county|city|corporation|non-profit|nonprofit|municipal)')\n",
    "\n",
    "mm = {}\n",
    "for k, v in agr_matches.items():\n",
    "    txt = v.text.replace('\\n',' ').lower()\n",
    "    first_three = list(e.text for e in v[:5] if e.is_alpha)[:3]\n",
    "    \n",
    "    if p.search(txt) and ('agreement' in first_three or 'contract' in first_three ):\n",
    "        mm[k] = v\n"
   ]
  },
  {
   "cell_type": "code",
   "execution_count": 19,
   "id": "00fd0b2d-8ccb-4061-94f6-1e3b24a79cce",
   "metadata": {},
   "outputs": [
    {
     "data": {
      "text/plain": [
       "41"
      ]
     },
     "execution_count": 19,
     "metadata": {},
     "output_type": "execute_result"
    }
   ],
   "source": [
    "from random import choices \n",
    "values = list(mm.values())\n",
    "k = len(values) / 10 \n",
    "sample = choices(values, k=int(k))\n",
    "len(sample)"
   ]
  },
  {
   "cell_type": "code",
   "execution_count": 20,
   "id": "8febe409-15eb-4fdc-9ea6-c9ba4b3c1f6c",
   "metadata": {},
   "outputs": [
    {
     "data": {
      "text/plain": [
       "[('offeror', 220),\n",
       " ('offeror company organization name', 112),\n",
       " ('the california public records act government code section', 68),\n",
       " ('the california public records act', 44),\n",
       " ('telecare corporation', 28),\n",
       " ('interfaith community services', 27),\n",
       " ('mcalister institute', 24),\n",
       " ('walden family services', 15),\n",
       " ('pan asian communities', 12),\n",
       " ('mental health systems', 10),\n",
       " ('deaf community services of san diego', 9),\n",
       " ('state', 9),\n",
       " ('interfaith shelter network', 9),\n",
       " ('vista hill', 8),\n",
       " ('national alliance', 8),\n",
       " ('community research foundation', 8),\n",
       " ('ac', 8),\n",
       " ('corporation for supportive housing', 8),\n",
       " ('serving seniors', 8),\n",
       " ('carroll', 7),\n",
       " ('mission treatment services', 6),\n",
       " ('escondido', 6),\n",
       " ('llc', 6),\n",
       " ('the state of californi', 6),\n",
       " ('contractor southern indian health council', 6),\n",
       " ('el dorado community service centers', 6),\n",
       " ('san diego health alliance', 6),\n",
       " ('south bay community services', 6),\n",
       " ('n madison avenue', 6),\n",
       " ('center for community solutions', 6),\n",
       " ('alpha project', 4),\n",
       " ('new alternatives', 4),\n",
       " ('llc dba resca re workforce servics', 4),\n",
       " ('upac', 4),\n",
       " ('', 4),\n",
       " ('mcalister institute for treatment education', 4),\n",
       " ('prosperity way', 4),\n",
       " ('community health improvement partners', 4),\n",
       " ('offeror company', 4),\n",
       " ('san diego youth services', 4)]"
      ]
     },
     "execution_count": 20,
     "metadata": {},
     "output_type": "execute_result"
    }
   ],
   "source": [
    "import re\n",
    "rows   = []\n",
    "for (doc_id, start, end), sent in mm.items():\n",
    "    rows.append({\n",
    "        'text': re.sub(r'\\s+', ' ', str(sent).strip()),\n",
    "        'start': start,\n",
    "        'end': end,\n",
    "        'path':  sent.doc._.pdf_path\n",
    "    })\n",
    "    \n",
    "t = pd.DataFrame(rows)\n",
    "t = t.drop_duplicates(subset=['text','path'])\n",
    "t.to_csv('agreement_statements.csv')\n",
    "\n",
    "# Make docs for the agreement statements\n",
    "ag_docs =  Doc.from_docs([nlp(v.text) for k,v in mm.items() ])\n",
    "\n",
    "ag_ents = [ ' '.join([t.lower_ for t in e if t.is_alpha]) for e in ag_docs.ents if e.label_ == 'ORG' ]\n",
    "\n",
    "c = Counter(ag_ents)\n",
    "c.most_common(40)"
   ]
  },
  {
   "cell_type": "code",
   "execution_count": 21,
   "id": "45b6df77-cb4e-4e2c-b85e-7d9801b4aebd",
   "metadata": {},
   "outputs": [],
   "source": [
    "contractors = {\n",
    " 'alpha project',\n",
    " 'anthem compassionate',\n",
    " 'casa de amparo',\n",
    " 'casa de oro ',\n",
    " 'catholic charities',\n",
    " 'center for community solutions',\n",
    " 'community health improvement partners',\n",
    " 'community research foundation',\n",
    " 'community resource center',\n",
    " 'southern indian health council',\n",
    " 'healthright',\n",
    " 'corporation for supportive housing',\n",
    " 'deaf community services of san diego',\n",
    " 'diocese of san diego',\n",
    " 'el dorado community service centers',\n",
    " 'family health centers of san diego',\n",
    " 'fancor guest home',\n",
    " 'home start',\n",
    " 'interfaith',\n",
    " 'legal aid society of san',\n",
    " 'mcalister institute',\n",
    " 'mental health systems',\n",
    " 'mission treatment services',\n",
    " 'nami',\n",
    " 'national alliance',\n",
    " 'new alternatives',\n",
    " 'orlando guest home',\n",
    " 'pan asian communities',\n",
    " 'pathways community services',\n",
    " 'public consulting group',\n",
    " 'rescare workforce services',\n",
    " 'san diego health alliance',\n",
    " 'san diego youth services',\n",
    " 'serving seniors',\n",
    " 'south bay community services',\n",
    " 'telecare corporation',\n",
    " 'neighborhood house association',\n",
    " 'upac',\n",
    " 'urban street angels',\n",
    " 'vista hill',\n",
    " 'walden environment',\n",
    " 'walden family services',\n",
    " 'wing street',\n",
    " 'offeror',\n",
    "'YMCA',\n",
    "'National Conflict Resolution Center',\n",
    "'Prosperity Way',\n",
    "'PATH',\n",
    "'Exodus Recovery',\n",
    "'Regional Task Force on the Homeless',\n",
    "\"Carroll's Community Care\"}\n"
   ]
  },
  {
   "cell_type": "code",
   "execution_count": 22,
   "id": "17a5cb70-bfbf-4827-8bcb-52c738f670b2",
   "metadata": {},
   "outputs": [
    {
     "name": "stdout",
     "output_type": "stream",
     "text": [
      "This agreement (\"Agreement\") is made and entered into effective as of the date of the last signature on the signature page by and between the County of San Diego, a political subdivision of the State of California (\"County\") and Prime Healthcare Paradise Valley LLC, located at 2400 East 4th Street National City, CA 91950 (\"Contractor\"), with reference to the following facts:\n",
      "This indemnification agreement (\"Agreement\") is made and entered into by and between the County of San Diego\n",
      "This agreement (\"Agreement\") is made and entered into effective as of the date of the last signature on the signature p age by and between the County of San Diego, a political subdivision of the State of California (\"County\") and Casa El Cajon located at 306 Shady Lane, El Cajon, CA 92021 (\"Contractor\"), with reference to the following facts:\n",
      "Let This agreement (\"Agreement\") is made and entered into effective July I, 2019, by and between the County of San Diego, a political subdivision of the State of California (\"County\") and Carroll's Residential Care 655 S. Mollison Ave.\n",
      "This agreement (\"Agreement\") is made and entered into on the date shown on the signature page (\"Effective Date\") by and between the County of San Diego, a political subdivision of the State of California (\"County\") and Contractor People Assisting\n"
     ]
    }
   ],
   "source": [
    "\n",
    "def find_contractor(v):\n",
    "    for c in contractors:\n",
    "        if c.lower() in v.lower():\n",
    "            return c\n",
    "    return None\n",
    "\n",
    "t['contractor'] = t.text.apply(find_contractor)\n",
    "for idx, r in t[t.contractor.isnull()].iterrows()    :\n",
    "    print(r.text)"
   ]
  },
  {
   "cell_type": "markdown",
   "id": "63574565-36f7-4b40-9f89-3e66eacd2d86",
   "metadata": {},
   "source": [
    "# Funding Sources"
   ]
  },
  {
   "cell_type": "code",
   "execution_count": 23,
   "id": "58acf972-36d8-4369-bb62-113238062cf9",
   "metadata": {},
   "outputs": [
    {
     "data": {
      "application/vnd.jupyter.widget-view+json": {
       "model_id": "705fec793360492caee69cb0b7c6a792",
       "version_major": 2,
       "version_minor": 0
      },
      "text/plain": [
       "  0%|          | 0/876 [00:00<?, ?it/s]"
      ]
     },
     "metadata": {},
     "output_type": "display_data"
    },
    {
     "name": "stdout",
     "output_type": "stream",
     "text": [
      "CPU times: user 567 ms, sys: 6.44 ms, total: 574 ms\n",
      "Wall time: 570 ms\n"
     ]
    },
    {
     "data": {
      "text/plain": [
       "12290"
      ]
     },
     "execution_count": 23,
     "metadata": {},
     "output_type": "execute_result"
    }
   ],
   "source": [
    "%%time\n",
    "import spacy\n",
    "from spacy.matcher import PhraseMatcher\n",
    "from itertools import islice\n",
    "from tqdm.notebook import tqdm\n",
    "\n",
    "phrase_matcher = PhraseMatcher(nlp.vocab)\n",
    "phrases = ['HUD', 'HRSA', 'SAMHSA', 'CDBG','Medi-Cal','medicare']\n",
    "patterns = [nlp(text) for text in phrases]\n",
    "phrase_matcher.add('contr_shall', None, *patterns)\n",
    "\n",
    "fund = {}\n",
    "\n",
    "i = 0\n",
    "\n",
    "matches = {}\n",
    "for doc in tqdm(list(docs)):\n",
    "  \n",
    "    for match_id, start, end in phrase_matcher(doc):\n",
    "        span = doc[start:end]\n",
    "        matches[(id(doc), start, end)] = span.sent\n",
    "\n",
    "len(matches)"
   ]
  },
  {
   "cell_type": "code",
   "execution_count": 24,
   "id": "2bfca87a-7ec7-4ada-a356-bc3cf658a9de",
   "metadata": {},
   "outputs": [
    {
     "ename": "TypeError",
     "evalue": "'list' object is not callable",
     "output_type": "error",
     "traceback": [
      "\u001b[0;31m---------------------------------------------------------------------------\u001b[0m",
      "\u001b[0;31mTypeError\u001b[0m                                 Traceback (most recent call last)",
      "\u001b[0;32m<ipython-input-24-4a299899b93c>\u001b[0m in \u001b[0;36m<module>\u001b[0;34m\u001b[0m\n\u001b[0;32m----> 1\u001b[0;31m \u001b[0msamp\u001b[0m \u001b[0;34m=\u001b[0m \u001b[0msample\u001b[0m\u001b[0;34m(\u001b[0m\u001b[0mlist\u001b[0m\u001b[0;34m(\u001b[0m\u001b[0mmatches\u001b[0m\u001b[0;34m.\u001b[0m\u001b[0mvalues\u001b[0m\u001b[0;34m(\u001b[0m\u001b[0;34m)\u001b[0m\u001b[0;34m)\u001b[0m\u001b[0;34m,\u001b[0m \u001b[0;36m40\u001b[0m\u001b[0;34m)\u001b[0m\u001b[0;34m\u001b[0m\u001b[0;34m\u001b[0m\u001b[0m\n\u001b[0m\u001b[1;32m      2\u001b[0m \u001b[0;34m\u001b[0m\u001b[0m\n\u001b[1;32m      3\u001b[0m \u001b[0;32mfor\u001b[0m \u001b[0me\u001b[0m \u001b[0;32min\u001b[0m \u001b[0msamp\u001b[0m\u001b[0;34m:\u001b[0m\u001b[0;34m\u001b[0m\u001b[0;34m\u001b[0m\u001b[0m\n\u001b[1;32m      4\u001b[0m     \u001b[0mprint\u001b[0m\u001b[0;34m(\u001b[0m\u001b[0me\u001b[0m\u001b[0;34m)\u001b[0m\u001b[0;34m\u001b[0m\u001b[0;34m\u001b[0m\u001b[0m\n\u001b[1;32m      5\u001b[0m     \u001b[0mprint\u001b[0m\u001b[0;34m(\u001b[0m\u001b[0;34m'-----'\u001b[0m\u001b[0;34m)\u001b[0m\u001b[0;34m\u001b[0m\u001b[0;34m\u001b[0m\u001b[0m\n",
      "\u001b[0;31mTypeError\u001b[0m: 'list' object is not callable"
     ]
    }
   ],
   "source": [
    "samp = sample(list(matches.values()), 40)\n",
    "\n",
    "for e in samp:\n",
    "    print(e)\n",
    "    print('-----')"
   ]
  },
  {
   "cell_type": "code",
   "execution_count": null,
   "id": "df609242-8154-4fe4-8317-ab7cf0f1b807",
   "metadata": {},
   "outputs": [],
   "source": []
  }
 ],
 "metadata": {
  "kernelspec": {
   "display_name": "Python 3",
   "language": "python",
   "name": "python3"
  },
  "language_info": {
   "codemirror_mode": {
    "name": "ipython",
    "version": 3
   },
   "file_extension": ".py",
   "mimetype": "text/x-python",
   "name": "python",
   "nbconvert_exporter": "python",
   "pygments_lexer": "ipython3",
   "version": "3.9.6"
  }
 },
 "nbformat": 4,
 "nbformat_minor": 5
}
