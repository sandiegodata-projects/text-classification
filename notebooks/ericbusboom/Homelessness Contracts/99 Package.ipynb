{
 "cells": [
  {
   "cell_type": "code",
   "execution_count": 1,
   "id": "78c13a5a-acce-44f6-9043-49b832880b59",
   "metadata": {},
   "outputs": [
    {
     "name": "stdout",
     "output_type": "stream",
     "text": [
      "updating: contracts_data/ (stored 0%)\n",
      "updating: contracts_data/contractors.csv (deflated 47%)\n",
      "updating: contracts_data/requirements.csv (deflated 82%)\n",
      "updating: contracts_data/agreement_statements.csv (deflated 83%)\n",
      "  adding: contracts_data/money.csv (deflated 84%)\n",
      "  adding: contracts_data/requirement_dedupe.csv (deflated 78%)\n"
     ]
    }
   ],
   "source": [
    "! mkdir -p contracts_data\n",
    "! mv *.csv contracts_data/\n",
    "! zip -r contracts_data.zip  contracts_data"
   ]
  },
  {
   "cell_type": "code",
   "execution_count": null,
   "id": "d3995989-1a1c-4517-91b3-4f75907b85ee",
   "metadata": {},
   "outputs": [],
   "source": []
  }
 ],
 "metadata": {
  "kernelspec": {
   "display_name": "Python 3",
   "language": "python",
   "name": "python3"
  },
  "language_info": {
   "codemirror_mode": {
    "name": "ipython",
    "version": 3
   },
   "file_extension": ".py",
   "mimetype": "text/x-python",
   "name": "python",
   "nbconvert_exporter": "python",
   "pygments_lexer": "ipython3",
   "version": "3.9.6"
  }
 },
 "nbformat": 4,
 "nbformat_minor": 5
}
