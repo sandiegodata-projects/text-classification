{
 "cells": [
  {
   "cell_type": "code",
   "execution_count": 1,
   "id": "3d1adbd9-0188-448c-9755-557c63ae1a38",
   "metadata": {},
   "outputs": [
    {
     "data": {
      "text/plain": [
       "'3.1.1'"
      ]
     },
     "execution_count": 1,
     "metadata": {},
     "output_type": "execute_result"
    }
   ],
   "source": [
    "import pandas as pd \n",
    "import numpy as np \n",
    "import spacy\n",
    "\n",
    "from spacy.tokens import Doc, DocBin\n",
    "from spacy.matcher import PhraseMatcher\n",
    "from spacy import displacy\n",
    "\n",
    "from tqdm.notebook import tqdm\n",
    "from collections import Counter, defaultdict\n",
    "import pickle\n",
    "from pathlib import Path\n",
    "import random\n",
    "from joblib import Parallel, delayed\n",
    "\n",
    "from collections import Counter\n",
    "import phonetics \n",
    "\n",
    "\n",
    "from itertools import islice\n",
    "from tqdm.notebook import tqdm\n",
    "\n",
    "import matplotlib.pyplot as plt\n",
    "%matplotlib inline\n",
    "\n",
    "Doc.set_extension(\"pdf_path\", default=None)\n",
    "\n",
    "\n",
    "spacy.__version__"
   ]
  },
  {
   "cell_type": "code",
   "execution_count": 2,
   "id": "aba8f149-f103-4d01-86d6-d522b2cb553d",
   "metadata": {},
   "outputs": [],
   "source": [
    "# The documents saved in a previous notebook \n",
    "\n",
    "#!  python -m spacy download en_core_web_sm\n",
    "model = \"en_core_web_lg\"\n",
    "\n",
    "text_path  = Path('texts.pkl')\n",
    "docs_path  = Path(f'docs-{model}.spacy')\n",
    "nlp_path = Path(f'nlp-{model}.spacy')\n",
    "\n",
    "nlp = spacy.load(model)\n",
    "nlp.max_length = 3000000\n",
    "\n",
    "nlp = nlp.from_disk(nlp_path)\n",
    "doc_bin = DocBin().from_disk(docs_path)\n",
    "docs = list(doc_bin.get_docs(nlp.vocab))"
   ]
  },
  {
   "cell_type": "code",
   "execution_count": 3,
   "id": "c8657325-69b3-4c80-8673-755396eec58c",
   "metadata": {},
   "outputs": [],
   "source": [
    "# Map of types of entities. \n",
    "import re\n",
    "p = re.compile(r'\\W+')\n",
    "\n",
    "docv = list(docs)\n",
    "\n",
    "wd = defaultdict(list)\n",
    "\n",
    "for d in docv:\n",
    "    for e in  d.ents:\n",
    "        if not str(e).isnumeric():\n",
    "            wd[e.label_].append(p.sub(' ', str(e.lemma_)).lower() )\n",
    "\n",
    "cd = defaultdict(Counter)\n",
    "\n",
    "for k, v in wd.items():\n",
    "    cd[k].update(v)\n"
   ]
  },
  {
   "cell_type": "code",
   "execution_count": 4,
   "id": "02952402-dacf-4183-b6e6-a281199c5f52",
   "metadata": {},
   "outputs": [
    {
     "name": "stderr",
     "output_type": "stream",
     "text": [
      "<timed exec>:3: UserWarning: [W101] Skipping Doc custom extension 'pdf_path' while merging docs.\n"
     ]
    },
    {
     "name": "stdout",
     "output_type": "stream",
     "text": [
      "CPU times: user 48.7 s, sys: 10.8 s, total: 59.5 s\n",
      "Wall time: 1min 4s\n"
     ]
    }
   ],
   "source": [
    "%%time\n",
    "# Make a single combined document\n",
    "from spacy.tokens import Doc\n",
    "cdocs = Doc.from_docs(docv)"
   ]
  },
  {
   "cell_type": "code",
   "execution_count": 5,
   "id": "92d6e91a-a373-420a-81bc-ba5b31a66d5b",
   "metadata": {},
   "outputs": [
    {
     "data": {
      "application/vnd.jupyter.widget-view+json": {
       "model_id": "339f044d8f324215bbb0d223a1fa2024",
       "version_major": 2,
       "version_minor": 0
      },
      "text/plain": [
       "  0%|          | 0/876 [00:00<?, ?it/s]"
      ]
     },
     "metadata": {},
     "output_type": "display_data"
    },
    {
     "data": {
      "text/plain": [
       "3500"
      ]
     },
     "execution_count": 5,
     "metadata": {},
     "output_type": "execute_result"
    }
   ],
   "source": [
    "# Match to words that indicate referencing an out reach program\n",
    "import spacy\n",
    "from spacy.matcher import PhraseMatcher\n",
    "from itertools import islice\n",
    "from tqdm.notebook import tqdm\n",
    "\n",
    "phrase_matcher = PhraseMatcher(nlp.vocab)\n",
    "phrases = ['outreach']\n",
    "patterns = [nlp(text) for text in phrases]\n",
    "phrase_matcher.add('outreach', None, *patterns)\n",
    "\n",
    "contr_shall = {}\n",
    "\n",
    "i = 0\n",
    "\n",
    "contr_matches = {}\n",
    "for doc in tqdm(list(docs)):\n",
    "  \n",
    "    for match_id, start, end in phrase_matcher(doc):\n",
    "        span = doc[start:end]\n",
    "        contr_matches[(id(doc), start, end)] = span.sent\n",
    "\n",
    "len(contr_matches)\n",
    "      "
   ]
  },
  {
   "cell_type": "code",
   "execution_count": 25,
   "id": "22030797-5648-4c9c-8af8-fe03cd42b5fc",
   "metadata": {},
   "outputs": [
    {
     "name": "stdout",
     "output_type": "stream",
     "text": [
      "2270\n"
     ]
    },
    {
     "data": {
      "text/html": [
       "<div>\n",
       "<style scoped>\n",
       "    .dataframe tbody tr th:only-of-type {\n",
       "        vertical-align: middle;\n",
       "    }\n",
       "\n",
       "    .dataframe tbody tr th {\n",
       "        vertical-align: top;\n",
       "    }\n",
       "\n",
       "    .dataframe thead th {\n",
       "        text-align: right;\n",
       "    }\n",
       "</style>\n",
       "<table border=\"1\" class=\"dataframe\">\n",
       "  <thead>\n",
       "    <tr style=\"text-align: right;\">\n",
       "      <th></th>\n",
       "      <th>or_sent</th>\n",
       "      <th>contractor</th>\n",
       "    </tr>\n",
       "  </thead>\n",
       "  <tbody>\n",
       "    <tr>\n",
       "      <th>0</th>\n",
       "      <td>Additional NAMI SD services include monthly\\nE...</td>\n",
       "      <td>Nami</td>\n",
       "    </tr>\n",
       "    <tr>\n",
       "      <th>1</th>\n",
       "      <td>We do this by offering free classes,\\nsupport ...</td>\n",
       "      <td>Nami</td>\n",
       "    </tr>\n",
       "    <tr>\n",
       "      <th>2</th>\n",
       "      <td>Location ofservices and outreach.</td>\n",
       "      <td>Nami</td>\n",
       "    </tr>\n",
       "    <tr>\n",
       "      <th>3</th>\n",
       "      <td>NAMI SD's outreach includes our staff working ...</td>\n",
       "      <td>Nami</td>\n",
       "    </tr>\n",
       "    <tr>\n",
       "      <th>5</th>\n",
       "      <td>Contractor's Short Term Case Manager(STCM)for ...</td>\n",
       "      <td>Mcalister Institute</td>\n",
       "    </tr>\n",
       "  </tbody>\n",
       "</table>\n",
       "</div>"
      ],
      "text/plain": [
       "                                             or_sent           contractor\n",
       "0  Additional NAMI SD services include monthly\\nE...                 Nami\n",
       "1  We do this by offering free classes,\\nsupport ...                 Nami\n",
       "2                  Location ofservices and outreach.                 Nami\n",
       "3  NAMI SD's outreach includes our staff working ...                 Nami\n",
       "5  Contractor's Short Term Case Manager(STCM)for ...  Mcalister Institute"
      ]
     },
     "execution_count": 25,
     "metadata": {},
     "output_type": "execute_result"
    }
   ],
   "source": [
    "agrmt = pd.read_csv('agreement_statements.csv').iloc[:,1:]\n",
    "\n",
    "or_docs =  pd.DataFrame([ {'path':v.doc._.pdf_path, 'or_sent': str(v)} for k,v in contr_matches.items()])\n",
    "\n",
    "or_docs = or_docs.merge(agrmt)\n",
    "or_docs = or_docs[['or_sent','contractor']].drop_duplicates().dropna()\n",
    "print(len(or_docs))\n",
    "or_docs.head()"
   ]
  },
  {
   "cell_type": "code",
   "execution_count": 26,
   "id": "f0b9794d-4c0d-4c57-b14f-b89f5f9ef183",
   "metadata": {},
   "outputs": [],
   "source": [
    "or_docs.to_csv('outreach.csv')\n"
   ]
  },
  {
   "cell_type": "code",
   "execution_count": 29,
   "id": "b02310f8-efd0-457f-84e8-eaf66f4c8454",
   "metadata": {},
   "outputs": [
    {
     "data": {
      "text/plain": [
       "array(['Alpha Project', 'Casa De Amparo', 'Catholic Charities',\n",
       "       'Center For Community Solutions',\n",
       "       'Community Health Improvement Partners',\n",
       "       'Community Research Foundation', 'Community Resource Center',\n",
       "       'Corporation For Supportive Housing',\n",
       "       'Deaf Community Services Of San Diego',\n",
       "       'Episcopal Community Services', 'Exodus Recovery',\n",
       "       'Family Health Centers Of San Diego', 'Healthright', 'Home Start',\n",
       "       'Interfaith', 'Legal Aid Society Of San', 'Mcalister Institute',\n",
       "       'Mental Health Systems', 'Nami', 'National Alliance',\n",
       "       'Neighborhood House Association', 'New Alternatives',\n",
       "       'North County Lifeline', 'Pan Asian Communities', 'Path',\n",
       "       'People Assisting', 'Prosperity Way', 'Public Consulting Group',\n",
       "       'Recovery Innovations', 'Regional Task Force On The Homeless',\n",
       "       'Rescare Workforce Services', 'San Diego Youth Services',\n",
       "       'Serving Seniors', 'South Bay Community Services',\n",
       "       'Southern Indian Health Council', 'Telecare Corporation',\n",
       "       'Urban Street Angels', 'Vista Hill', 'Ymca'], dtype=object)"
      ]
     },
     "execution_count": 29,
     "metadata": {},
     "output_type": "execute_result"
    }
   ],
   "source": [
    "or_docs.sort_values('contractor')['contractor'].unique()"
   ]
  },
  {
   "cell_type": "code",
   "execution_count": null,
   "id": "825a5277-9d4e-4760-b3d8-dfc9656de16e",
   "metadata": {},
   "outputs": [],
   "source": []
  }
 ],
 "metadata": {
  "kernelspec": {
   "display_name": "Python 3",
   "language": "python",
   "name": "python3"
  },
  "language_info": {
   "codemirror_mode": {
    "name": "ipython",
    "version": 3
   },
   "file_extension": ".py",
   "mimetype": "text/x-python",
   "name": "python",
   "nbconvert_exporter": "python",
   "pygments_lexer": "ipython3",
   "version": "3.7.6"
  }
 },
 "nbformat": 4,
 "nbformat_minor": 5
}
