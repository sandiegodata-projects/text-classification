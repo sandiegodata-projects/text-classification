{
 "cells": [
  {
   "cell_type": "markdown",
   "id": "c30a282a-c47b-4162-896e-299688d4e762",
   "metadata": {},
   "source": [
    "# Read and Use the Zotero Export"
   ]
  },
  {
   "cell_type": "code",
   "execution_count": 1,
   "id": "c82edf2c-5f83-44c1-893c-3faf5cf688e1",
   "metadata": {},
   "outputs": [],
   "source": [
    "import requests\n",
    "import zlib\n",
    "import json\n",
    "\n",
    "k = 'zotero_records-1.0.2.json.gzip'\n",
    "      \n",
    "r = requests.get(\"http://ds.civicknowledge.org.s3.amazonaws.com/sandiegodata.org/sez_zotero_papers/\"+k)\n",
    "r.raise_for_status()\n",
    "\n",
    "d = json.loads(zlib.decompress(r.content))"
   ]
  },
  {
   "cell_type": "code",
   "execution_count": 11,
   "id": "b69f982d-0abe-4caf-9f24-ca33b046ee3f",
   "metadata": {},
   "outputs": [
    {
     "name": "stdout",
     "output_type": "stream",
     "text": [
      "PYPXWAIV 34 2271 Moberg and Tarko - 2014 - Why No Chinese Miracle in Africa Special Economic.pdf\n",
      "ZNLN5LP7 0 0 Why No Chinese Miracle in Africa? Special Economic Zones and Liberalization Avalanches\n",
      "YSJZIFHR 0 0 Does development zone have spillover effect in China?\n",
      "BGFIKR9I 13 69166 Valerio Mendoza - 2016 - Preferential policies and income inequality Evide.pdf\n",
      "MEQK439C 0 0 Preferential policies and income inequality: Evidence from Special Economic Zones and Open Cities in China\n",
      "98DRB7TG 40 60785 Gebremariam and Feyisa - ASSESSING THE PERFORMANCE OF INDUSTRIAL PARKS (IPS.pdf\n",
      "83BKNBA7 0 0 ASSESSING THE PERFORMANCE OF INDUSTRIAL PARKS (IPS) IN ETHIOPIA: THE CASE OF BOLE LEMI 1, EASTERN INDUSTRY ZONE AND HAWASSA INDUSTRIAL PARKS\n",
      "KF8F2MLY 8 62808 Giannecchini and Taylor - 2018 - The eastern industrial zone in Ethiopia Catalyst .pdf\n",
      "EXPWL9HX 0 0 The eastern industrial zone in Ethiopia: Catalyst for development?\n",
      "KZWBXW3L 23 62465 Kuznetsov and Kuznetsova - 2019 - The success and failure of Russian SEZs some poli.pdf\n",
      "9996B36X 0 0 The success and failure of Russian SEZs: some policy lessons\n",
      "QHSI6SD3 83 225394 458690WP0Box331s0April200801PUBLIC1.pdf\n",
      "RAEC73K2 39 111083 Farole - 2010 - Second best investment climate and performance in.pdf\n",
      "T3V98J2T 0 0 Second best? investment climate and performance in Africa's special economic zones\n",
      "WAMDHUBK 0 0 ResearchGate Link\n"
     ]
    }
   ],
   "source": [
    "from itertools import islice \n",
    "for k, v in islice(d.items(),15):\n",
    "    pages = v.get('_pages') or []\n",
    "  \n",
    "    # Get full text of one record\n",
    "    txt = '\\n'.join(e['text'] for e in pages)\n",
    "    \n",
    "    print(k, len(pages), len(txt), v['data'].get('title'))"
   ]
  },
  {
   "cell_type": "code",
   "execution_count": 15,
   "id": "f9e748c2-28f7-468e-a7b7-c47aeef07828",
   "metadata": {},
   "outputs": [],
   "source": [
    "%%time\n",
    "# Use a spacy model for English to extract entities. \n",
    "\n",
    "from spacy.lang.en import English\n",
    "from spacy.lang.en.stop_words import STOP_WORDS\n",
    "import re\n",
    "\n",
    "import en_core_web_lg\n",
    "# load en_core_web_sm of English for vocabluary, syntax & entities\n",
    "nlp = en_core_web_lg.load()\n",
    "\n",
    "# Add the component to the pipeline\n",
    "nlp.add_pipe('sentencizer')\n",
    "\n",
    "entities = []\n",
    "for k, v in d.items():\n",
    "    pages = v.get('_pages') or []\n",
    "    \n",
    "    if len(pages) > 0:\n",
    "        text = '\\n'.join(e['text'] for e in pages)\n",
    "\n",
    "        doc = nlp(text)\n",
    "\n",
    "        # Create list of word tokens\n",
    "        token_list = [tok for tok in doc if tok.text not in STOP_WORDS]\n",
    "\n",
    "        entities.extend([(k, i, i.label_, i.label) for i in doc.ents if i.label_ not in ('CARDINAL','DATE') ])\n",
    "      \n"
   ]
  },
  {
   "cell_type": "code",
   "execution_count": 37,
   "id": "212d35d1-e40a-4a91-bf8d-025bf8f46ca4",
   "metadata": {},
   "outputs": [
    {
     "data": {
      "text/plain": [
       "{'EVENT',\n",
       " 'FAC',\n",
       " 'GPE',\n",
       " 'LANGUAGE',\n",
       " 'LAW',\n",
       " 'LOC',\n",
       " 'MONEY',\n",
       " 'NORP',\n",
       " 'ORDINAL',\n",
       " 'ORG',\n",
       " 'PERCENT',\n",
       " 'PERSON',\n",
       " 'PRODUCT',\n",
       " 'QUANTITY',\n",
       " 'TIME',\n",
       " 'WORK_OF_ART'}"
      ]
     },
     "execution_count": 37,
     "metadata": {},
     "output_type": "execute_result"
    }
   ],
   "source": [
    "import re, string; \n",
    "pat = re.compile('[\\W_]+')\n",
    "  \n",
    "ents = set([ (pat.sub(' ',str(e[1]).lower()).strip(),str(e[2])) for e in entities])\n",
    "\n",
    "set([ e[1] for e in ents ])"
   ]
  },
  {
   "cell_type": "code",
   "execution_count": 43,
   "id": "f03f0b2f-f7d8-4db9-a1fe-a16aa438b9d7",
   "metadata": {},
   "outputs": [
    {
     "data": {
      "text/plain": [
       "['',\n",
       " 'k v',\n",
       " 'v y',\n",
       " 'mi',\n",
       " 'dominican republic n equal',\n",
       " 'argentina',\n",
       " 'subic bay',\n",
       " 'washington',\n",
       " 'cheesman',\n",
       " 'brazil',\n",
       " 'burundi',\n",
       " 'the united kingdom',\n",
       " 'eu',\n",
       " 'hawassa ip',\n",
       " 'lanka',\n",
       " 'the soviet union',\n",
       " 'australia',\n",
       " 'bangladesh',\n",
       " 'tatarstan',\n",
       " 'ningbo']"
      ]
     },
     "execution_count": 43,
     "metadata": {},
     "output_type": "execute_result"
    }
   ],
   "source": [
    "# Geopolitical Entities\n",
    "list(set([ e[0] for e in ents if e[1] == 'GPE' ]))[:20]\n"
   ]
  },
  {
   "cell_type": "code",
   "execution_count": null,
   "id": "f35f0bd9-86a6-4912-a555-d059538b1d80",
   "metadata": {},
   "outputs": [],
   "source": []
  }
 ],
 "metadata": {
  "kernelspec": {
   "display_name": "Python 3",
   "language": "python",
   "name": "python3"
  },
  "language_info": {
   "codemirror_mode": {
    "name": "ipython",
    "version": 3
   },
   "file_extension": ".py",
   "mimetype": "text/x-python",
   "name": "python",
   "nbconvert_exporter": "python",
   "pygments_lexer": "ipython3",
   "version": "3.9.6"
  }
 },
 "nbformat": 4,
 "nbformat_minor": 5
}
